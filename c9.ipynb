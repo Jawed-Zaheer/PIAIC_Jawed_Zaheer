{
  "cells": [
    {
      "cell_type": "markdown",
      "id": "3f15ec0b",
      "metadata": {
        "id": "3f15ec0b"
      },
      "source": [
        "# Modules and Object Oriented Programming"
      ]
    },
    {
      "cell_type": "raw",
      "id": "0810b564",
      "metadata": {
        "id": "0810b564"
      },
      "source": [
        "# what is a module in python?\n",
        "Ans: A module in python is just python file. (any file with extenstion .py)"
      ]
    },
    {
      "cell_type": "raw",
      "id": "1c2e528c",
      "metadata": {
        "id": "1c2e528c"
      },
      "source": [
        "# what a module actually holds?\n",
        "And: Functions, Classes , Atrributes "
      ]
    },
    {
      "cell_type": "raw",
      "id": "f7d18cfe",
      "metadata": {
        "id": "f7d18cfe"
      },
      "source": [
        "Buit-in module\n",
        "math , os , numpy, pandas, tensorflow "
      ]
    },
    {
      "cell_type": "code",
      "execution_count": null,
      "id": "60af0ee1",
      "metadata": {
        "id": "60af0ee1"
      },
      "outputs": [],
      "source": [
        "import myModule"
      ]
    },
    {
      "cell_type": "code",
      "execution_count": null,
      "id": "fa2c95e8",
      "metadata": {
        "id": "fa2c95e8",
        "outputId": "128f3dc4-c6dc-4d5a-d928-4e69eb3cd9d2"
      },
      "outputs": [
        {
          "name": "stdout",
          "output_type": "stream",
          "text": [
            "9\n"
          ]
        }
      ],
      "source": [
        "print(myModule.add(4,5))"
      ]
    },
    {
      "cell_type": "code",
      "execution_count": null,
      "id": "776292b8",
      "metadata": {
        "id": "776292b8"
      },
      "outputs": [],
      "source": [
        "# %load myModule.py\n",
        "# a module can have functions, classes, variables\n",
        "\n",
        "def add(num1, num2):\n",
        "    \"\"\"Docstring:\n",
        "add(value1,value2)\n",
        "\n",
        "sums the values.\n",
        "return and numerical value incase of integers are supplied \n",
        "return string value in case of string are supplied\"\"\"\n",
        "    \n",
        "    return num1 + num2\n",
        "\n",
        "\n",
        "def  circumference(radius):\n",
        "    return (2*3.142*radius)"
      ]
    },
    {
      "cell_type": "code",
      "execution_count": null,
      "id": "5456f707",
      "metadata": {
        "id": "5456f707"
      },
      "outputs": [],
      "source": [
        "%run myModule.py"
      ]
    },
    {
      "cell_type": "code",
      "execution_count": null,
      "id": "78703949",
      "metadata": {
        "id": "78703949"
      },
      "outputs": [],
      "source": [
        "from myModule import circumference"
      ]
    },
    {
      "cell_type": "code",
      "execution_count": null,
      "id": "13def5ec",
      "metadata": {
        "id": "13def5ec",
        "outputId": "52a7333c-4489-4f21-ee1d-7e2746cd5eda"
      },
      "outputs": [
        {
          "data": {
            "text/plain": [
              "75.408"
            ]
          },
          "execution_count": 10,
          "metadata": {},
          "output_type": "execute_result"
        }
      ],
      "source": [
        "circumference(12)"
      ]
    },
    {
      "cell_type": "markdown",
      "id": "542a724a",
      "metadata": {
        "id": "542a724a"
      },
      "source": [
        "# Object Oriented Programming"
      ]
    },
    {
      "cell_type": "raw",
      "id": "d1822e73",
      "metadata": {
        "id": "d1822e73"
      },
      "source": [
        "- Object \n",
        "- Classes\n",
        "- Pillars of OOPs\n",
        "- Methods\n",
        "- Attributes"
      ]
    },
    {
      "cell_type": "raw",
      "id": "7658a3a3",
      "metadata": {
        "id": "7658a3a3"
      },
      "source": [
        "# What is OOP?\n",
        "Ans: it is a programming paradigm/style that allows us to bind data and methods together"
      ]
    },
    {
      "cell_type": "raw",
      "id": "54a85df0",
      "metadata": {
        "id": "54a85df0"
      },
      "source": [
        "Object: everything in python is object\n",
        "             - Every object belongs to a class"
      ]
    },
    {
      "cell_type": "raw",
      "id": "0df51e20",
      "metadata": {
        "id": "0df51e20"
      },
      "source": [
        "1st Samsumg Galxy S7 desinged and developed in lab and launch in a ceremony:Class\n",
        "   copies : objects/ instance\n",
        "   every object will be same"
      ]
    },
    {
      "cell_type": "code",
      "execution_count": null,
      "id": "c3aed10d",
      "metadata": {
        "id": "c3aed10d"
      },
      "outputs": [],
      "source": [
        "class SamsungGalaxyS7:\n",
        "    # Attributes/Characteristcs/Variables \n",
        "    #Class level attributes\n",
        "    ram  = \"4Gb\"\n",
        "    weight = '120g'\n",
        "    color = \"grey\"\n",
        "    processor = \"4Core\"\n",
        "    camera = \"6mpx\"\n",
        "    battery = \"12amp\"\n",
        "    screen = \"6*4\" \n",
        "    # Instance level attributes \n",
        "    color = \"Grey\" #(this attribute should be in init method to be dynamic value)\n",
        "        \n",
        "    \n",
        "    # Behaviours/Actions/Functions     # functions inside class >> methods\n",
        "    def makeCall(self):\n",
        "        print(\"Calling\")\n",
        "    def recvCall(self):\n",
        "        print(\"Receving Call\")\n",
        "    def takePic(self):\n",
        "        print(\"Smile Please\")\n",
        "    def decCall(self):\n",
        "        print(\"DeclineCall\")\n",
        "    def sendTxt(self,msg):\n",
        "        print(msg)"
      ]
    },
    {
      "cell_type": "code",
      "execution_count": null,
      "id": "d98051aa",
      "metadata": {
        "id": "d98051aa"
      },
      "outputs": [],
      "source": [
        "#Creating Copies of my pHone (Objects)\n",
        "apkaSamsung = SamsungGalaxyS7()"
      ]
    },
    {
      "cell_type": "code",
      "execution_count": null,
      "id": "f4a1c75a",
      "metadata": {
        "id": "f4a1c75a",
        "outputId": "14f64d55-ec22-45d7-d133-4de0cef21707"
      },
      "outputs": [
        {
          "data": {
            "text/plain": [
              "'4Gb'"
            ]
          },
          "execution_count": 23,
          "metadata": {},
          "output_type": "execute_result"
        }
      ],
      "source": [
        "apkaSamsung.ram"
      ]
    },
    {
      "cell_type": "code",
      "execution_count": null,
      "id": "824a0eac",
      "metadata": {
        "id": "824a0eac",
        "outputId": "145e887c-18fa-4cff-8d16-0f77f98ef561"
      },
      "outputs": [
        {
          "name": "stdout",
          "output_type": "stream",
          "text": [
            "Calling\n"
          ]
        }
      ],
      "source": [
        "apkaSamsung.makeCall()"
      ]
    },
    {
      "cell_type": "code",
      "execution_count": null,
      "id": "bda52853",
      "metadata": {
        "id": "bda52853",
        "outputId": "e010a44a-a33d-4003-a3c0-575c841e499c"
      },
      "outputs": [
        {
          "name": "stdout",
          "output_type": "stream",
          "text": [
            "Arey kahana reh gaye bhai jaldi ao\n"
          ]
        }
      ],
      "source": [
        "apkaSamsung.sendTxt(\"Arey kahana reh gaye bhai jaldi ao\")"
      ]
    },
    {
      "cell_type": "code",
      "execution_count": null,
      "id": "e3da7695",
      "metadata": {
        "id": "e3da7695"
      },
      "outputs": [],
      "source": [
        "meraSamsung = SamsungGalaxyS7()"
      ]
    },
    {
      "cell_type": "code",
      "execution_count": null,
      "id": "9c7b967c",
      "metadata": {
        "id": "9c7b967c"
      },
      "outputs": [],
      "source": [
        "tumharaSamsung = SamsungGalaxyS7()"
      ]
    },
    {
      "cell_type": "code",
      "execution_count": null,
      "id": "e0e2d3b0",
      "metadata": {
        "id": "e0e2d3b0",
        "outputId": "04a4d2bc-3367-4ce2-9ddb-b0657c4a4fcf"
      },
      "outputs": [
        {
          "data": {
            "text/plain": [
              "'12amp'"
            ]
          },
          "execution_count": 28,
          "metadata": {},
          "output_type": "execute_result"
        }
      ],
      "source": [
        "tumharaSamsung.battery"
      ]
    },
    {
      "cell_type": "raw",
      "id": "1ee5420d",
      "metadata": {
        "id": "1ee5420d"
      },
      "source": [
        "Every object has everything that is inside its class"
      ]
    },
    {
      "cell_type": "code",
      "execution_count": null,
      "id": "0d7b81bf",
      "metadata": {
        "id": "0d7b81bf"
      },
      "outputs": [],
      "source": [
        "class Patient():\n",
        "    extra = \"Extra\"\n",
        "    # some attributes values are same for  every obj. (Class attribute)\n",
        "    # some attributes values are different for every obj (object/instance attributes)    \n",
        "    def __init__(self,patient_id, name,age, gender,disease,contact,*otherdis):\n",
        "          ########instancelevel/ object level attributes   \n",
        "          #initializer (constructor)\n",
        "        self.name = name\n",
        "        self.age  = age\n",
        "        self.gender = gender\n",
        "        self.disease = disease\n",
        "        self.contact  = contact\n",
        "        self.patient_id = patient_id\n",
        "        self.otherdis = otherdis\n",
        "    \n",
        "    def admission(self):\n",
        "        print(f\"{self.name} is admitted in disease {self.disease}\")\n",
        "    \n",
        "    \n",
        "    def treatment(self):\n",
        "        print(f\"{self.name} is being treated his age is {self.age}\")\n",
        "        \n",
        "        \n",
        "    def discharge(self,bill):\n",
        "        if bill ==\"Paid\":\n",
        "            print(f\"{self.name} is being discharged\")\n",
        "        else:\n",
        "            print(\"Please clear your due before leaving\")\n",
        "    def patientProfile(self):\n",
        "        print(f\"\"\"\n",
        "                  Patient Card\n",
        "                  ____________                  \n",
        "                  \n",
        "            Patient ID: {self.patient_id}\n",
        "            Patient Name: {self.name}\n",
        "            Patient Disease: {self.disease}\n",
        "            Patient Gender : {self.gender}\n",
        "            Patient Age: {self.age}\n",
        "            Paitent Contact: {self.contact}\n",
        "            \"\"\")"
      ]
    },
    {
      "cell_type": "code",
      "execution_count": null,
      "id": "5aa25c6f",
      "metadata": {
        "id": "5aa25c6f"
      },
      "outputs": [],
      "source": [
        "p1 = Patient(111,\"Mr. Abdul\", 50, \"M\",\"Diabetese\",\"546544\", \"low bp\", 'hypertension')"
      ]
    },
    {
      "cell_type": "code",
      "execution_count": null,
      "id": "bfd998b2",
      "metadata": {
        "id": "bfd998b2"
      },
      "outputs": [],
      "source": [
        "p2 = Patient(222,\"Miss.Sana\", 20, \"F\", \"KoiBimariNahi\", \"5895644\")"
      ]
    },
    {
      "cell_type": "code",
      "execution_count": null,
      "id": "d90259cf",
      "metadata": {
        "id": "d90259cf",
        "outputId": "d9723a88-93ea-4c45-9bf9-d947513ff657"
      },
      "outputs": [
        {
          "data": {
            "text/plain": [
              "'Mr. Abdul'"
            ]
          },
          "execution_count": 165,
          "metadata": {},
          "output_type": "execute_result"
        }
      ],
      "source": [
        "p1.name"
      ]
    },
    {
      "cell_type": "code",
      "execution_count": null,
      "id": "18eab5ea",
      "metadata": {
        "id": "18eab5ea",
        "outputId": "a3e3e1e6-005b-46c2-88e5-c3e4ae7ee6a7"
      },
      "outputs": [
        {
          "data": {
            "text/plain": [
              "'Miss.Sana'"
            ]
          },
          "execution_count": 166,
          "metadata": {},
          "output_type": "execute_result"
        }
      ],
      "source": [
        "p2.name"
      ]
    },
    {
      "cell_type": "code",
      "execution_count": null,
      "id": "74bd1971",
      "metadata": {
        "id": "74bd1971",
        "outputId": "52008aa3-ae55-4af9-9050-5990859f010f"
      },
      "outputs": [
        {
          "data": {
            "text/plain": [
              "'KoiBimariNahi'"
            ]
          },
          "execution_count": 167,
          "metadata": {},
          "output_type": "execute_result"
        }
      ],
      "source": [
        "p2.disease"
      ]
    },
    {
      "cell_type": "code",
      "execution_count": null,
      "id": "48121edf",
      "metadata": {
        "id": "48121edf",
        "outputId": "c40090a9-8ccb-4450-c805-56cdacf563ee"
      },
      "outputs": [
        {
          "data": {
            "text/plain": [
              "'546544'"
            ]
          },
          "execution_count": 168,
          "metadata": {},
          "output_type": "execute_result"
        }
      ],
      "source": [
        "p1.contact"
      ]
    },
    {
      "cell_type": "code",
      "execution_count": null,
      "id": "173c16c0",
      "metadata": {
        "id": "173c16c0",
        "outputId": "750ca710-9501-4054-dcc7-8c75cd3596dd"
      },
      "outputs": [
        {
          "data": {
            "text/plain": [
              "'F'"
            ]
          },
          "execution_count": 169,
          "metadata": {},
          "output_type": "execute_result"
        }
      ],
      "source": [
        "p2.gender"
      ]
    },
    {
      "cell_type": "code",
      "execution_count": null,
      "id": "e10e5f04",
      "metadata": {
        "id": "e10e5f04"
      },
      "outputs": [],
      "source": [
        "p3 = Patient(111,\"Mr. Ali\", 50, \"M\",\"Diabetese\",\"546544\")"
      ]
    },
    {
      "cell_type": "code",
      "execution_count": null,
      "id": "a642381f",
      "metadata": {
        "id": "a642381f"
      },
      "outputs": [],
      "source": [
        "p4 = Patient(111,\"Mr.Ahmed\", 50, \"M\",\"Diabetese\",\"546544\")"
      ]
    },
    {
      "cell_type": "code",
      "execution_count": null,
      "id": "4916c4de",
      "metadata": {
        "id": "4916c4de"
      },
      "outputs": [],
      "source": [
        "p1.contact = \"2222222\""
      ]
    },
    {
      "cell_type": "code",
      "execution_count": null,
      "id": "b54fec8c",
      "metadata": {
        "id": "b54fec8c",
        "outputId": "ef527b0f-fa18-4d8d-b29a-6fd24970ca3a"
      },
      "outputs": [
        {
          "data": {
            "text/plain": [
              "'5895644'"
            ]
          },
          "execution_count": 173,
          "metadata": {},
          "output_type": "execute_result"
        }
      ],
      "source": [
        "p2.contact"
      ]
    },
    {
      "cell_type": "code",
      "execution_count": null,
      "id": "17ffea13",
      "metadata": {
        "id": "17ffea13",
        "outputId": "988c413b-453a-44c3-ddff-59b5735db719"
      },
      "outputs": [
        {
          "data": {
            "text/plain": [
              "'2222222'"
            ]
          },
          "execution_count": 174,
          "metadata": {},
          "output_type": "execute_result"
        }
      ],
      "source": [
        "p1.contact"
      ]
    },
    {
      "cell_type": "code",
      "execution_count": null,
      "id": "01d4b043",
      "metadata": {
        "id": "01d4b043",
        "outputId": "3f6ab8ef-9ab6-4680-95c2-d43438f8cc68"
      },
      "outputs": [
        {
          "name": "stdout",
          "output_type": "stream",
          "text": [
            "Mr.Ahmed is being treated his age is 50\n"
          ]
        }
      ],
      "source": [
        "p4.treatment()"
      ]
    },
    {
      "cell_type": "code",
      "execution_count": null,
      "id": "c3317d29",
      "metadata": {
        "id": "c3317d29",
        "outputId": "fd5dd5bb-f865-417a-b911-6e870b9d6f18"
      },
      "outputs": [
        {
          "name": "stdout",
          "output_type": "stream",
          "text": [
            "Mr.Ahmed is being discharged\n"
          ]
        }
      ],
      "source": [
        "p4.discharge(\"Paid\")"
      ]
    },
    {
      "cell_type": "code",
      "execution_count": null,
      "id": "10038f55",
      "metadata": {
        "id": "10038f55",
        "outputId": "e451385c-bdd4-45d0-c83a-1a61cf95f126"
      },
      "outputs": [
        {
          "name": "stdout",
          "output_type": "stream",
          "text": [
            "Please clear your due before leaving\n"
          ]
        }
      ],
      "source": [
        "p3.discharge(\"Not paid\")"
      ]
    },
    {
      "cell_type": "code",
      "execution_count": null,
      "id": "4bba2804",
      "metadata": {
        "id": "4bba2804",
        "outputId": "4e9fc988-5fa1-4df3-ed8d-0393ee4ac532"
      },
      "outputs": [
        {
          "name": "stdout",
          "output_type": "stream",
          "text": [
            "\n",
            "                  Patient Card\n",
            "                  ____________\n",
            "                  \n",
            "                  \n",
            "            Patient ID: 111\n",
            "            Patient Name: Mr. Abdul\n",
            "            Patient Disease: Diabetese\n",
            "            Patient Gender : M\n",
            "            Patient Age: 50\n",
            "            Paitent Contact: 2222222\n",
            "            \n"
          ]
        }
      ],
      "source": [
        "p1.patientProfile()"
      ]
    },
    {
      "cell_type": "code",
      "execution_count": null,
      "id": "baebf0d4",
      "metadata": {
        "id": "baebf0d4",
        "outputId": "2687d509-7cf4-4972-a9a2-ce8dee79a632"
      },
      "outputs": [
        {
          "name": "stdout",
          "output_type": "stream",
          "text": [
            "\n",
            "                  Patient Card\n",
            "                  ____________\n",
            "                  \n",
            "                  \n",
            "            Patient ID: 222\n",
            "            Patient Name: Miss.Sana\n",
            "            Patient Disease: KoiBimariNahi\n",
            "            Patient Gender : F\n",
            "            Patient Age: 20\n",
            "            Paitent Contact: 5895644\n",
            "            \n"
          ]
        }
      ],
      "source": [
        "p2.patientProfile()"
      ]
    },
    {
      "cell_type": "code",
      "execution_count": null,
      "id": "f3347249",
      "metadata": {
        "id": "f3347249",
        "outputId": "5dc7d393-754e-463c-ae46-6c1936dd96e0"
      },
      "outputs": [
        {
          "name": "stdout",
          "output_type": "stream",
          "text": [
            "\n",
            "                  Patient Card\n",
            "                  ____________\n",
            "                  \n",
            "                  \n",
            "            Patient ID: 111\n",
            "            Patient Name: Mr. Ali\n",
            "            Patient Disease: Diabetese\n",
            "            Patient Gender : M\n",
            "            Patient Age: 50\n",
            "            Paitent Contact: 546544\n",
            "            \n"
          ]
        }
      ],
      "source": [
        "p3.patientProfile()"
      ]
    },
    {
      "cell_type": "markdown",
      "id": "8944dedb",
      "metadata": {
        "id": "8944dedb"
      },
      "source": [
        "# Mobile Class redefined"
      ]
    },
    {
      "cell_type": "code",
      "execution_count": null,
      "id": "b6e0904e",
      "metadata": {
        "id": "b6e0904e"
      },
      "outputs": [],
      "source": [
        "class SamsungGalaxyS7:\n",
        "    # Attributes/Characteristcs/Variables \n",
        "    #Class level attributes\n",
        "    ram  = \"4Gb\"\n",
        "    weight = '120g'\n",
        "    color = \"grey\"\n",
        "    processor = \"4Core\"\n",
        "    camera = \"6mpx\"\n",
        "    battery = \"12amp\"\n",
        "    screen = \"6*4\" \n",
        "    def __init__(self, color):\n",
        "        \n",
        "    # Instance level attributes \n",
        "        self.color = color \n",
        "        \n",
        "    \n",
        "    # Behaviours/Actions/Functions     # functions inside class >> methods\n",
        "    def makeCall(self):\n",
        "        print(\"Calling\")\n",
        "    def recvCall(self):\n",
        "        print(\"Receving Call\")\n",
        "    def takePic(self):\n",
        "        print(\"Smile Please\")\n",
        "    def decCall(self):\n",
        "        print(\"DeclineCall\")\n",
        "    def sendTxt(self,msg):\n",
        "        print(msg)"
      ]
    },
    {
      "cell_type": "code",
      "execution_count": null,
      "id": "b2f1a987",
      "metadata": {
        "id": "b2f1a987"
      },
      "outputs": [],
      "source": [
        "s1 = SamsungGalaxyS7(\"Grey\")"
      ]
    },
    {
      "cell_type": "code",
      "execution_count": null,
      "id": "5c030b94",
      "metadata": {
        "id": "5c030b94"
      },
      "outputs": [],
      "source": [
        "s2 = SamsungGalaxyS7(\"Black\")"
      ]
    },
    {
      "cell_type": "code",
      "execution_count": null,
      "id": "13b0d02e",
      "metadata": {
        "id": "13b0d02e",
        "outputId": "729418d6-a515-436b-fe9b-29870b9ed603"
      },
      "outputs": [
        {
          "data": {
            "text/plain": [
              "('low bp', 'hypertension')"
            ]
          },
          "execution_count": 194,
          "metadata": {},
          "output_type": "execute_result"
        }
      ],
      "source": [
        "p1.otherdis"
      ]
    },
    {
      "cell_type": "code",
      "execution_count": null,
      "id": "1c14d3bb",
      "metadata": {
        "id": "1c14d3bb"
      },
      "outputs": [],
      "source": []
    }
  ],
  "metadata": {
    "kernelspec": {
      "display_name": "Python 3",
      "language": "python",
      "name": "python3"
    },
    "language_info": {
      "codemirror_mode": {
        "name": "ipython",
        "version": 3
      },
      "file_extension": ".py",
      "mimetype": "text/x-python",
      "name": "python",
      "nbconvert_exporter": "python",
      "pygments_lexer": "ipython3",
      "version": "3.7.4"
    },
    "colab": {
      "provenance": []
    }
  },
  "nbformat": 4,
  "nbformat_minor": 5
}